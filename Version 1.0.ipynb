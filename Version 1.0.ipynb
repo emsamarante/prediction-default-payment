{
 "cells": [
  {
   "cell_type": "markdown",
   "id": "6d0d8a98",
   "metadata": {},
   "source": [
    "# IMPORTS"
   ]
  },
  {
   "cell_type": "code",
   "execution_count": 1,
   "id": "77b49b2a",
   "metadata": {},
   "outputs": [],
   "source": [
    "import pandas as pd\n",
    "import numpy as np\n",
    "import seaborn as sns\n",
    "import matplotlib.pyplot as plt\n",
    "\n",
    "from sklearn.ensemble            import RandomForestClassifier\n",
    "from sklearn.tree                import DecisionTreeClassifier\n",
    "from sklearn.neighbors           import KNeighborsClassifier\n",
    "from sklearn.model_selection     import train_test_split\n",
    "from sklearn.metrics             import classification_report, accuracy_score, recall_score, confusion_matrix\n",
    "from yellowbrick.classifier      import ConfusionMatrix\n",
    "\n",
    "import pickle"
   ]
  },
  {
   "cell_type": "markdown",
   "id": "b9988289",
   "metadata": {},
   "source": [
    "# LOADING DATA"
   ]
  },
  {
   "cell_type": "code",
   "execution_count": 2,
   "id": "5663b496",
   "metadata": {},
   "outputs": [],
   "source": [
    "df = pd.read_csv(\"data_unbalanced_preprocessed.csv\")"
   ]
  },
  {
   "cell_type": "code",
   "execution_count": 3,
   "id": "64400252",
   "metadata": {},
   "outputs": [
    {
     "data": {
      "text/html": [
       "<div>\n",
       "<style scoped>\n",
       "    .dataframe tbody tr th:only-of-type {\n",
       "        vertical-align: middle;\n",
       "    }\n",
       "\n",
       "    .dataframe tbody tr th {\n",
       "        vertical-align: top;\n",
       "    }\n",
       "\n",
       "    .dataframe thead th {\n",
       "        text-align: right;\n",
       "    }\n",
       "</style>\n",
       "<table border=\"1\" class=\"dataframe\">\n",
       "  <thead>\n",
       "    <tr style=\"text-align: right;\">\n",
       "      <th></th>\n",
       "      <th>LIMIT_BAL</th>\n",
       "      <th>GENDER</th>\n",
       "      <th>EDUCATION</th>\n",
       "      <th>MARITAL STATUS</th>\n",
       "      <th>AGE</th>\n",
       "      <th>PAY_0</th>\n",
       "      <th>PAY_2</th>\n",
       "      <th>PAY_3</th>\n",
       "      <th>PAY_4</th>\n",
       "      <th>PAY_5</th>\n",
       "      <th>...</th>\n",
       "      <th>BILL_AMT4</th>\n",
       "      <th>BILL_AMT5</th>\n",
       "      <th>BILL_AMT6</th>\n",
       "      <th>PAY_AMT1</th>\n",
       "      <th>PAY_AMT2</th>\n",
       "      <th>PAY_AMT3</th>\n",
       "      <th>PAY_AMT4</th>\n",
       "      <th>PAY_AMT5</th>\n",
       "      <th>PAY_AMT6</th>\n",
       "      <th>DEFAULTING PERSON</th>\n",
       "    </tr>\n",
       "  </thead>\n",
       "  <tbody>\n",
       "    <tr>\n",
       "      <th>0</th>\n",
       "      <td>20000</td>\n",
       "      <td>2</td>\n",
       "      <td>2</td>\n",
       "      <td>1</td>\n",
       "      <td>24</td>\n",
       "      <td>2</td>\n",
       "      <td>2</td>\n",
       "      <td>-1</td>\n",
       "      <td>-1</td>\n",
       "      <td>-2</td>\n",
       "      <td>...</td>\n",
       "      <td>0</td>\n",
       "      <td>0</td>\n",
       "      <td>0</td>\n",
       "      <td>0</td>\n",
       "      <td>689</td>\n",
       "      <td>0</td>\n",
       "      <td>0</td>\n",
       "      <td>0</td>\n",
       "      <td>0</td>\n",
       "      <td>1</td>\n",
       "    </tr>\n",
       "    <tr>\n",
       "      <th>1</th>\n",
       "      <td>120000</td>\n",
       "      <td>2</td>\n",
       "      <td>2</td>\n",
       "      <td>2</td>\n",
       "      <td>26</td>\n",
       "      <td>-1</td>\n",
       "      <td>2</td>\n",
       "      <td>0</td>\n",
       "      <td>0</td>\n",
       "      <td>0</td>\n",
       "      <td>...</td>\n",
       "      <td>3272</td>\n",
       "      <td>3455</td>\n",
       "      <td>3261</td>\n",
       "      <td>0</td>\n",
       "      <td>1000</td>\n",
       "      <td>1000</td>\n",
       "      <td>1000</td>\n",
       "      <td>0</td>\n",
       "      <td>2000</td>\n",
       "      <td>1</td>\n",
       "    </tr>\n",
       "    <tr>\n",
       "      <th>2</th>\n",
       "      <td>90000</td>\n",
       "      <td>2</td>\n",
       "      <td>2</td>\n",
       "      <td>2</td>\n",
       "      <td>34</td>\n",
       "      <td>0</td>\n",
       "      <td>0</td>\n",
       "      <td>0</td>\n",
       "      <td>0</td>\n",
       "      <td>0</td>\n",
       "      <td>...</td>\n",
       "      <td>14331</td>\n",
       "      <td>14948</td>\n",
       "      <td>15549</td>\n",
       "      <td>1518</td>\n",
       "      <td>1500</td>\n",
       "      <td>1000</td>\n",
       "      <td>1000</td>\n",
       "      <td>1000</td>\n",
       "      <td>5000</td>\n",
       "      <td>0</td>\n",
       "    </tr>\n",
       "    <tr>\n",
       "      <th>3</th>\n",
       "      <td>50000</td>\n",
       "      <td>2</td>\n",
       "      <td>2</td>\n",
       "      <td>1</td>\n",
       "      <td>37</td>\n",
       "      <td>0</td>\n",
       "      <td>0</td>\n",
       "      <td>0</td>\n",
       "      <td>0</td>\n",
       "      <td>0</td>\n",
       "      <td>...</td>\n",
       "      <td>28314</td>\n",
       "      <td>28959</td>\n",
       "      <td>29547</td>\n",
       "      <td>2000</td>\n",
       "      <td>2019</td>\n",
       "      <td>1200</td>\n",
       "      <td>1100</td>\n",
       "      <td>1069</td>\n",
       "      <td>1000</td>\n",
       "      <td>0</td>\n",
       "    </tr>\n",
       "    <tr>\n",
       "      <th>4</th>\n",
       "      <td>50000</td>\n",
       "      <td>1</td>\n",
       "      <td>2</td>\n",
       "      <td>1</td>\n",
       "      <td>57</td>\n",
       "      <td>-1</td>\n",
       "      <td>0</td>\n",
       "      <td>-1</td>\n",
       "      <td>0</td>\n",
       "      <td>0</td>\n",
       "      <td>...</td>\n",
       "      <td>20940</td>\n",
       "      <td>19146</td>\n",
       "      <td>19131</td>\n",
       "      <td>2000</td>\n",
       "      <td>36681</td>\n",
       "      <td>10000</td>\n",
       "      <td>9000</td>\n",
       "      <td>689</td>\n",
       "      <td>679</td>\n",
       "      <td>0</td>\n",
       "    </tr>\n",
       "  </tbody>\n",
       "</table>\n",
       "<p>5 rows × 24 columns</p>\n",
       "</div>"
      ],
      "text/plain": [
       "   LIMIT_BAL  GENDER  EDUCATION  MARITAL STATUS  AGE  PAY_0  PAY_2  PAY_3  \\\n",
       "0      20000       2          2               1   24      2      2     -1   \n",
       "1     120000       2          2               2   26     -1      2      0   \n",
       "2      90000       2          2               2   34      0      0      0   \n",
       "3      50000       2          2               1   37      0      0      0   \n",
       "4      50000       1          2               1   57     -1      0     -1   \n",
       "\n",
       "   PAY_4  PAY_5  ...  BILL_AMT4  BILL_AMT5  BILL_AMT6  PAY_AMT1  PAY_AMT2  \\\n",
       "0     -1     -2  ...          0          0          0         0       689   \n",
       "1      0      0  ...       3272       3455       3261         0      1000   \n",
       "2      0      0  ...      14331      14948      15549      1518      1500   \n",
       "3      0      0  ...      28314      28959      29547      2000      2019   \n",
       "4      0      0  ...      20940      19146      19131      2000     36681   \n",
       "\n",
       "   PAY_AMT3  PAY_AMT4  PAY_AMT5  PAY_AMT6  DEFAULTING PERSON  \n",
       "0         0         0         0         0                  1  \n",
       "1      1000      1000         0      2000                  1  \n",
       "2      1000      1000      1000      5000                  0  \n",
       "3      1200      1100      1069      1000                  0  \n",
       "4     10000      9000       689       679                  0  \n",
       "\n",
       "[5 rows x 24 columns]"
      ]
     },
     "execution_count": 3,
     "metadata": {},
     "output_type": "execute_result"
    }
   ],
   "source": [
    "df.head()"
   ]
  },
  {
   "cell_type": "markdown",
   "id": "3cbb0e22",
   "metadata": {},
   "source": [
    "# SPLIT DATA"
   ]
  },
  {
   "cell_type": "code",
   "execution_count": 4,
   "id": "7336a91b",
   "metadata": {},
   "outputs": [],
   "source": [
    "x = df.drop(['DEFAULTING PERSON'], axis = 1)\n",
    "y = df['DEFAULTING PERSON'].copy()"
   ]
  },
  {
   "cell_type": "code",
   "execution_count": 5,
   "id": "8f9f2d08",
   "metadata": {},
   "outputs": [],
   "source": [
    "x_train, x_test, y_train, y_test = train_test_split(x, y, test_size= 0.25, random_state= 0)"
   ]
  },
  {
   "cell_type": "code",
   "execution_count": 6,
   "id": "10edf83e",
   "metadata": {},
   "outputs": [
    {
     "data": {
      "text/plain": [
       "((22500, 23), (22500,))"
      ]
     },
     "execution_count": 6,
     "metadata": {},
     "output_type": "execute_result"
    }
   ],
   "source": [
    "x_train.shape, y_train.shape"
   ]
  },
  {
   "cell_type": "code",
   "execution_count": 7,
   "id": "ff21d23e",
   "metadata": {},
   "outputs": [
    {
     "data": {
      "text/plain": [
       "((7500, 23), (7500,))"
      ]
     },
     "execution_count": 7,
     "metadata": {},
     "output_type": "execute_result"
    }
   ],
   "source": [
    "x_test.shape, y_test.shape"
   ]
  },
  {
   "cell_type": "markdown",
   "id": "6f2c586c",
   "metadata": {},
   "source": [
    "# MACHINE LEARNING"
   ]
  },
  {
   "cell_type": "code",
   "execution_count": 8,
   "id": "2d8b54a4",
   "metadata": {},
   "outputs": [],
   "source": [
    "version1_accuracy = [] # version1 = [tree, random_forest, knn] for accuracy\n",
    "version1_recall = [] # version1 = [tree, random_forest, knn] for recall"
   ]
  },
  {
   "cell_type": "markdown",
   "id": "780ae87f",
   "metadata": {},
   "source": [
    "## Decision Tree"
   ]
  },
  {
   "cell_type": "code",
   "execution_count": 9,
   "id": "46c14920",
   "metadata": {},
   "outputs": [],
   "source": [
    "tree = DecisionTreeClassifier(random_state=0)\n",
    "tree.fit(x_train, y_train)\n",
    "v1_tree = tree.predict(x_test)"
   ]
  },
  {
   "cell_type": "code",
   "execution_count": 10,
   "id": "a99c98f3",
   "metadata": {},
   "outputs": [],
   "source": [
    "version1_accuracy.append( accuracy_score(y_test, v1_tree) )\n",
    "version1_recall.append( recall_score(y_test, v1_tree) )"
   ]
  },
  {
   "cell_type": "code",
   "execution_count": 11,
   "id": "826a5f26",
   "metadata": {},
   "outputs": [
    {
     "data": {
      "text/plain": [
       "([0.7336], [0.40931372549019607])"
      ]
     },
     "execution_count": 11,
     "metadata": {},
     "output_type": "execute_result"
    }
   ],
   "source": [
    "version1_accuracy, version1_recall"
   ]
  },
  {
   "cell_type": "code",
   "execution_count": 12,
   "id": "f37fd374",
   "metadata": {},
   "outputs": [
    {
     "name": "stdout",
     "output_type": "stream",
     "text": [
      "              precision    recall  f1-score   support\n",
      "\n",
      "           0       0.83      0.82      0.83      5868\n",
      "           1       0.39      0.41      0.40      1632\n",
      "\n",
      "    accuracy                           0.73      7500\n",
      "   macro avg       0.61      0.62      0.61      7500\n",
      "weighted avg       0.74      0.73      0.74      7500\n",
      "\n"
     ]
    }
   ],
   "source": [
    "print(classification_report(y_test, v1_tree))"
   ]
  },
  {
   "cell_type": "code",
   "execution_count": 13,
   "id": "24bb8d22",
   "metadata": {},
   "outputs": [],
   "source": [
    "cf_tree = confusion_matrix(y_test, v1_tree)"
   ]
  },
  {
   "cell_type": "code",
   "execution_count": 14,
   "id": "1025bd5d",
   "metadata": {},
   "outputs": [],
   "source": [
    "# sns.heatmap(confusion/np.sum(confusion), annot=True, fmt='.2%', cmap = 'Blues');"
   ]
  },
  {
   "cell_type": "code",
   "execution_count": 15,
   "id": "9481cd2f",
   "metadata": {},
   "outputs": [
    {
     "data": {
      "image/png": "[encoded data removed]",
      "text/plain": [
       "<Figure size 576x396 with 2 Axes>"
      ]
     },
     "metadata": {},
     "output_type": "display_data"
    }
   ],
   "source": [
    "group_names = ['True Neg', 'False Pos', 'False Neg', 'True Pos']\n",
    "\n",
    "group_counts = [\"{:0.0f}\".format(value) for value in cf_tree.flatten()]\n",
    "\n",
    "group_percentage = [\"{0:0.2%}\".format(value) for value in cf_tree.flatten()/np.sum(cf_tree)]\n",
    "\n",
    "labels = [f\"{v1}\\n\\n{v2}\\n\\n{v3}\" for v1,v2,v3 in zip(group_names, group_counts, group_percentage)]\n",
    "\n",
    "labels = np.asarray(labels).reshape(2,2)\n",
    "\n",
    "ax = plt.subplot()\n",
    "\n",
    "\n",
    "\n",
    "sns.heatmap(cf_tree/np.sum(cf_tree), annot=labels, fmt='', cmap = 'jet_r', vmin = 0, vmax = 1, ax = ax)\n",
    "\n",
    "ax.set_xlabel('Predicted labels', fontsize = 14)\n",
    "ax.set_ylabel('True labels', fontsize = 14)\n",
    "\n",
    "plt.title(\"Decision Tree - Version 1\", fontsize = 16)\n",
    "\n",
    "plt.show()"
   ]
  },
  {
   "cell_type": "markdown",
   "id": "633bb561",
   "metadata": {},
   "source": [
    "## Random Forest"
   ]
  },
  {
   "cell_type": "code",
   "execution_count": 16,
   "id": "17840abc",
   "metadata": {},
   "outputs": [],
   "source": [
    "rf = RandomForestClassifier(random_state=0)\n",
    "rf.fit(x_train, y_train)\n",
    "v1_rf = rf.predict(x_test)"
   ]
  },
  {
   "cell_type": "code",
   "execution_count": 17,
   "id": "f9894f89",
   "metadata": {},
   "outputs": [],
   "source": [
    "version1_accuracy.append( accuracy_score(y_test, v1_rf) )\n",
    "version1_recall.append( recall_score(y_test, v1_rf) )"
   ]
  },
  {
   "cell_type": "code",
   "execution_count": 18,
   "id": "c766150e",
   "metadata": {},
   "outputs": [
    {
     "data": {
      "text/plain": [
       "(0.8190666666666667, 0.36825980392156865)"
      ]
     },
     "execution_count": 18,
     "metadata": {},
     "output_type": "execute_result"
    }
   ],
   "source": [
    "version1_accuracy[1], version1_recall[1]"
   ]
  },
  {
   "cell_type": "code",
   "execution_count": 19,
   "id": "19607bf3",
   "metadata": {},
   "outputs": [
    {
     "name": "stdout",
     "output_type": "stream",
     "text": [
      "              precision    recall  f1-score   support\n",
      "\n",
      "           0       0.84      0.94      0.89      5868\n",
      "           1       0.65      0.37      0.47      1632\n",
      "\n",
      "    accuracy                           0.82      7500\n",
      "   macro avg       0.75      0.66      0.68      7500\n",
      "weighted avg       0.80      0.82      0.80      7500\n",
      "\n"
     ]
    }
   ],
   "source": [
    "print(classification_report(y_test, v1_rf))"
   ]
  },
  {
   "cell_type": "code",
   "execution_count": 20,
   "id": "18031c6e",
   "metadata": {},
   "outputs": [],
   "source": [
    "cf_rf = confusion_matrix(y_test, v1_rf)"
   ]
  },
  {
   "cell_type": "code",
   "execution_count": 21,
   "id": "5dc3233c",
   "metadata": {},
   "outputs": [
    {
     "data": {
      "image/png": "[encoded data removed]",
      "text/plain": [
       "<Figure size 576x396 with 2 Axes>"
      ]
     },
     "metadata": {},
     "output_type": "display_data"
    }
   ],
   "source": [
    "group_names = ['True Neg', 'False Pos', 'False Neg', 'True Pos']\n",
    "\n",
    "group_counts = [\"{:0.0f}\".format(value) for value in cf_rf.flatten()]\n",
    "\n",
    "group_percentage = [\"{0:0.2%}\".format(value) for value in cf_rf.flatten()/np.sum(cf_rf)]\n",
    "\n",
    "labels = [f\"{v1}\\n\\n{v2}\\n\\n{v3}\" for v1,v2,v3 in zip(group_names, group_counts, group_percentage)]\n",
    "\n",
    "labels = np.asarray(labels).reshape(2,2)\n",
    "\n",
    "ax = plt.subplot()\n",
    "\n",
    "\n",
    "\n",
    "sns.heatmap(cf_rf/np.sum(cf_rf), annot=labels, fmt='', cmap = 'jet_r', vmin = 0, vmax = 1, ax = ax)\n",
    "\n",
    "ax.set_xlabel('Predicted labels', fontsize = 14)\n",
    "ax.set_ylabel('True labels', fontsize = 14)\n",
    "\n",
    "plt.title(\"Random Forest - Version 1\", fontsize = 16)\n",
    "\n",
    "plt.show()"
   ]
  },
  {
   "cell_type": "markdown",
   "id": "29fc5911",
   "metadata": {},
   "source": [
    "## Knn"
   ]
  },
  {
   "cell_type": "code",
   "execution_count": 22,
   "id": "4753e088",
   "metadata": {},
   "outputs": [],
   "source": [
    "knn = KNeighborsClassifier()\n",
    "knn.fit(x_train, y_train)\n",
    "v1_knn = knn.predict(x_test)"
   ]
  },
  {
   "cell_type": "code",
   "execution_count": 23,
   "id": "29a431e7",
   "metadata": {},
   "outputs": [],
   "source": [
    "version1_accuracy.append( accuracy_score(y_test, v1_knn) )\n",
    "version1_recall.append( recall_score(y_test, v1_knn) )"
   ]
  },
  {
   "cell_type": "code",
   "execution_count": 24,
   "id": "3e70defb",
   "metadata": {},
   "outputs": [
    {
     "data": {
      "text/plain": [
       "(0.7621333333333333, 0.19424019607843138)"
      ]
     },
     "execution_count": 24,
     "metadata": {},
     "output_type": "execute_result"
    }
   ],
   "source": [
    "version1_accuracy[2], version1_recall[2]"
   ]
  },
  {
   "cell_type": "code",
   "execution_count": 25,
   "id": "91e83b77",
   "metadata": {},
   "outputs": [
    {
     "name": "stdout",
     "output_type": "stream",
     "text": [
      "              precision    recall  f1-score   support\n",
      "\n",
      "           0       0.80      0.92      0.86      5868\n",
      "           1       0.40      0.19      0.26      1632\n",
      "\n",
      "    accuracy                           0.76      7500\n",
      "   macro avg       0.60      0.56      0.56      7500\n",
      "weighted avg       0.72      0.76      0.73      7500\n",
      "\n"
     ]
    }
   ],
   "source": [
    "print(classification_report(y_test, v1_knn))"
   ]
  },
  {
   "cell_type": "code",
   "execution_count": 26,
   "id": "b5c8e48c",
   "metadata": {},
   "outputs": [],
   "source": [
    "cf_knn = confusion_matrix(y_test, v1_knn)"
   ]
  },
  {
   "cell_type": "code",
   "execution_count": 27,
   "id": "5bde969f",
   "metadata": {},
   "outputs": [
    {
     "data": {
      "image/png": "[encoded data removed]",
      "text/plain": [
       "<Figure size 576x396 with 2 Axes>"
      ]
     },
     "metadata": {},
     "output_type": "display_data"
    }
   ],
   "source": [
    "group_names = ['True Neg', 'False Pos', 'False Neg', 'True Pos']\n",
    "\n",
    "group_counts = [\"{:0.0f}\".format(value) for value in cf_knn.flatten()]\n",
    "\n",
    "group_percentage = [\"{0:0.2%}\".format(value) for value in cf_knn.flatten()/np.sum(cf_knn)]\n",
    "\n",
    "labels = [f\"{v1}\\n\\n{v2}\\n\\n{v3}\" for v1,v2,v3 in zip(group_names, group_counts, group_percentage)]\n",
    "\n",
    "labels = np.asarray(labels).reshape(2,2)\n",
    "\n",
    "ax = plt.subplot()\n",
    "\n",
    "\n",
    "\n",
    "sns.heatmap(cf_knn/np.sum(cf_knn), annot=labels, fmt='', cmap = 'jet_r', vmin = 0, vmax = 1, ax = ax)\n",
    "\n",
    "ax.set_xlabel('Predicted labels', fontsize = 14)\n",
    "ax.set_ylabel('True labels', fontsize = 14)\n",
    "\n",
    "plt.title(\"KNeighbors - Version 1\", fontsize = 16)\n",
    "\n",
    "plt.show()"
   ]
  },
  {
   "cell_type": "markdown",
   "id": "9d41c64c",
   "metadata": {},
   "source": [
    "## Storaging and saving The results"
   ]
  },
  {
   "cell_type": "code",
   "execution_count": 46,
   "id": "8e58fc1b",
   "metadata": {},
   "outputs": [],
   "source": [
    "algorithms = ['Decision Tree', 'Random Forest', 'KNN']\n",
    "\n",
    "accuracy_dict = {\"Version 1\": version1_accuracy }\n",
    "recall_dict = {\" Version 1\": version1_recall}\n",
    "\n",
    "accuracy = pd.DataFrame.from_dict(algorithms)\n",
    "accuracy.rename(columns={0: 'Algorithms'}, inplace=True)\n",
    "accuracy['Version 1'] = version1_accuracy\n",
    "\n",
    "accuracy.to_csv(\"accuracy_versions.csv\", index=None)\n",
    "\n",
    "recall = pd.DataFrame.from_dict(algorithms)\n",
    "recall.rename(columns={0: 'Algorithms'}, inplace=True)\n",
    "recall['Version 1'] = version1_recall\n",
    "\n",
    "recall.to_csv(\"recall_versions.csv\", index = None)"
   ]
  },
  {
   "cell_type": "code",
   "execution_count": 47,
   "id": "7237585b",
   "metadata": {},
   "outputs": [
    {
     "data": {
      "text/html": [
       "<div>\n",
       "<style scoped>\n",
       "    .dataframe tbody tr th:only-of-type {\n",
       "        vertical-align: middle;\n",
       "    }\n",
       "\n",
       "    .dataframe tbody tr th {\n",
       "        vertical-align: top;\n",
       "    }\n",
       "\n",
       "    .dataframe thead th {\n",
       "        text-align: right;\n",
       "    }\n",
       "</style>\n",
       "<table border=\"1\" class=\"dataframe\">\n",
       "  <thead>\n",
       "    <tr style=\"text-align: right;\">\n",
       "      <th></th>\n",
       "      <th>Algorithms</th>\n",
       "      <th>Version 1</th>\n",
       "    </tr>\n",
       "  </thead>\n",
       "  <tbody>\n",
       "    <tr>\n",
       "      <th>0</th>\n",
       "      <td>Decision Tree</td>\n",
       "      <td>0.733600</td>\n",
       "    </tr>\n",
       "    <tr>\n",
       "      <th>1</th>\n",
       "      <td>Random Forest</td>\n",
       "      <td>0.819067</td>\n",
       "    </tr>\n",
       "    <tr>\n",
       "      <th>2</th>\n",
       "      <td>KNN</td>\n",
       "      <td>0.762133</td>\n",
       "    </tr>\n",
       "  </tbody>\n",
       "</table>\n",
       "</div>"
      ],
      "text/plain": [
       "      Algorithms  Version 1\n",
       "0  Decision Tree   0.733600\n",
       "1  Random Forest   0.819067\n",
       "2            KNN   0.762133"
      ]
     },
     "execution_count": 47,
     "metadata": {},
     "output_type": "execute_result"
    }
   ],
   "source": [
    "accuracy"
   ]
  },
  {
   "cell_type": "code",
   "execution_count": 48,
   "id": "32782a35",
   "metadata": {},
   "outputs": [
    {
     "data": {
      "text/html": [
       "<div>\n",
       "<style scoped>\n",
       "    .dataframe tbody tr th:only-of-type {\n",
       "        vertical-align: middle;\n",
       "    }\n",
       "\n",
       "    .dataframe tbody tr th {\n",
       "        vertical-align: top;\n",
       "    }\n",
       "\n",
       "    .dataframe thead th {\n",
       "        text-align: right;\n",
       "    }\n",
       "</style>\n",
       "<table border=\"1\" class=\"dataframe\">\n",
       "  <thead>\n",
       "    <tr style=\"text-align: right;\">\n",
       "      <th></th>\n",
       "      <th>Algorithms</th>\n",
       "      <th>Version 1</th>\n",
       "    </tr>\n",
       "  </thead>\n",
       "  <tbody>\n",
       "    <tr>\n",
       "      <th>0</th>\n",
       "      <td>Decision Tree</td>\n",
       "      <td>0.409314</td>\n",
       "    </tr>\n",
       "    <tr>\n",
       "      <th>1</th>\n",
       "      <td>Random Forest</td>\n",
       "      <td>0.368260</td>\n",
       "    </tr>\n",
       "    <tr>\n",
       "      <th>2</th>\n",
       "      <td>KNN</td>\n",
       "      <td>0.194240</td>\n",
       "    </tr>\n",
       "  </tbody>\n",
       "</table>\n",
       "</div>"
      ],
      "text/plain": [
       "      Algorithms  Version 1\n",
       "0  Decision Tree   0.409314\n",
       "1  Random Forest   0.368260\n",
       "2            KNN   0.194240"
      ]
     },
     "execution_count": 48,
     "metadata": {},
     "output_type": "execute_result"
    }
   ],
   "source": [
    "recall"
   ]
  },
  {
   "cell_type": "code",
   "execution_count": null,
   "id": "e00f45c2",
   "metadata": {},
   "outputs": [],
   "source": []
  },
  {
   "cell_type": "code",
   "execution_count": null,
   "id": "5c129590",
   "metadata": {},
   "outputs": [],
   "source": []
  }
 ],
 "metadata": {
  "kernelspec": {
   "display_name": "Python 3 (ipykernel)",
   "language": "python",
   "name": "python3"
  },
  "language_info": {
   "codemirror_mode": {
    "name": "ipython",
    "version": 3
   },
   "file_extension": ".py",
   "mimetype": "text/x-python",
   "name": "python",
   "nbconvert_exporter": "python",
   "pygments_lexer": "ipython3",
   "version": "3.8.8"
  }
 },
 "nbformat": 4,
 "nbformat_minor": 5
}
